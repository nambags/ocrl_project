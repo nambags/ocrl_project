{
 "cells": [
  {
   "cell_type": "code",
   "execution_count": 1,
   "metadata": {},
   "outputs": [
    {
     "name": "stderr",
     "output_type": "stream",
     "text": [
      "\u001b[32m\u001b[1m  Activating\u001b[22m\u001b[39m environment at `c:\\Users\\ADMIN\\Documents\\GitHub\\ocrl_project\\Project.toml`\n",
      "\u001b[32m\u001b[1m  Activating\u001b[22m\u001b[39m environment at `c:\\Users\\ADMIN\\Documents\\GitHub\\ocrl_project\\Project.toml`\n"
     ]
    }
   ],
   "source": [
    "import Pkg; Pkg.activate(joinpath(@__DIR__,\"..\")); Pkg.instantiate()\n",
    "using Plots\n",
    "using Test\n",
    "include(\"car.jl\");\n",
    "using ForwardDiff"
   ]
  },
  {
   "cell_type": "code",
   "execution_count": 2,
   "metadata": {},
   "outputs": [],
   "source": [
    "# Define the model\n",
    "model = BicycleModel()\n",
    "\n",
    "# get the number of states and controls\n",
    "n = state_dim(model)\n",
    "m = control_dim(model)\n",
    "\n",
    "# Evaluate the continuous and discrete dynamics\n",
    "x0 = SA[0.,0.,0.,0.]\n",
    "u0 = SA[0.,0.]\n",
    "t0 = 0.0\n",
    "dt = 0.025\n",
    "dynamics(model, x0, u0)\n",
    "discrete_dynamics(RK4, model, x0, u0, t0, dt)  # use rk4 for integration\n",
    "\n",
    "# Evaluate the continuous and discrete Jacobians\n",
    "z0 = KnotPoint(x0,u0,dt,t0)   # create a `KnotPoint` type that stores everything together\n",
    "∇f = RobotDynamics.DynamicsJacobian(model)\n",
    "jacobian!(∇f, model, z0)\n",
    "discrete_jacobian!(RK4, ∇f, model, z0)\n",
    "\n",
    "# Extract pieces of the Jacobian\n",
    "A = ∇f.A\n",
    "B = ∇f.B;"
   ]
  },
  {
   "cell_type": "code",
   "execution_count": 3,
   "metadata": {},
   "outputs": [],
   "source": [
    "nx = n\n",
    "nu = m\n",
    "\n",
    "Q = Diagonal([1,1,1e-2,1e-2])\n",
    "R = Diagonal([1e-1,1e-1])\n",
    "Qf = Diagonal([1,1,1,1.])*10\n",
    "\n",
    "N = 101 #401\n",
    "Nmpc = 10 #60\n",
    "Nhz = 1\n",
    "delta = 12 #80\n",
    "Nc = N + 2*delta\n",
    "\n",
    "FD = ForwardDiff;"
   ]
  },
  {
   "cell_type": "code",
   "execution_count": 213,
   "metadata": {},
   "outputs": [
    {
     "data": {
      "text/plain": [
       "get__vanilla_trajectory (generic function with 1 method)"
      ]
     },
     "execution_count": 213,
     "metadata": {},
     "output_type": "execute_result"
    }
   ],
   "source": [
    "function get__vanilla_trajectory(s)\n",
    "    \n",
    "    arr = split(s,\"\")\n",
    "    if 60 < length(arr) < 120\n",
    "        c = 2\n",
    "    elseif length(arr) > 120\n",
    "        c = 1\n",
    "    else \n",
    "        c = 3\n",
    "    end \n",
    "\n",
    "    N = length(arr) * c\n",
    "   \n",
    "\n",
    "    x1ref = zeros(N)\n",
    "    x2ref = zeros(N)\n",
    "    θref = zeros(N)\n",
    "    v1ref = zeros(N)\n",
    "    v2ref = zeros(N)\n",
    "    ωref = zeros(N)\n",
    "    rad = 20\n",
    "\n",
    "    u1ref = zeros(N-1)*NaN\n",
    "    u2ref = zeros(N-1)*NaN\n",
    "\n",
    "    #v1ref[1] = 0.0\n",
    "    #v1ref[Nc] = v1ref[Nc-1]\n",
    "    @show(size(θref))\n",
    "    counter = 0\n",
    "    for i in 1:length(arr)\n",
    "        \n",
    "        if arr[i] == \"s\"\n",
    "            x1ref[i] += 0\n",
    "            x2ref[i] += 0\n",
    "            θref[i] += 0\n",
    "        elseif arr[i] == \"w\"\n",
    "            x2ref[i] +=1\n",
    "            \n",
    "        elseif arr[i] == \"a\"\n",
    "            x1ref[i] += 1\n",
    "        elseif arr[i] ==\"d\"\n",
    "            x1ref[i] -=1\n",
    "        end\n",
    "        \n",
    "    end\n",
    "    xref = [x1ref'; x2ref'; θref'; v1ref']\n",
    "    uref = [u1ref'; u2ref']\n",
    "    return [x for x in eachcol(xref)], [u for u in eachcol(uref)], length([x for x in eachcol(xref)])\n",
    "end"
   ]
  },
  {
   "cell_type": "code",
   "execution_count": 214,
   "metadata": {},
   "outputs": [],
   "source": [
    "using Interpolations\n",
    "using Plots"
   ]
  },
  {
   "cell_type": "code",
   "execution_count": 215,
   "metadata": {},
   "outputs": [
    {
     "data": {
      "text/plain": [
       "Linear_Fit_between (generic function with 1 method)"
      ]
     },
     "execution_count": 215,
     "metadata": {},
     "output_type": "execute_result"
    }
   ],
   "source": [
    "function Linear_Fit_between(knot1,knot2,steps)\n",
    "    if steps == 0\n",
    "        return 0\n",
    "    end\n",
    "\n",
    "    if steps == 1\n",
    "        return [knot1]\n",
    "    end\n",
    "\n",
    "    delta = (knot2 - knot1)/(steps)\n",
    "    #@show(delta)\n",
    "    array = zeros(steps)\n",
    "    #@show(size(array))\n",
    "    array[1] = knot1\n",
    "    for i in 1:steps-1\n",
    "        array[i+1] = array[i] + delta\n",
    "    end\n",
    "    return array\n",
    "end"
   ]
  },
  {
   "cell_type": "code",
   "execution_count": 229,
   "metadata": {},
   "outputs": [
    {
     "data": {
      "text/plain": [
       "get_complex_traj (generic function with 1 method)"
      ]
     },
     "execution_count": 229,
     "metadata": {},
     "output_type": "execute_result"
    }
   ],
   "source": [
    "function get_complex_traj(input)\n",
    "    arr = split(input,\"\")\n",
    "    #println(arr)\n",
    "    if 60 < length(arr) < 120\n",
    "        c = 2\n",
    "    elseif length(arr) > 120\n",
    "        c = 1\n",
    "    else \n",
    "        c = 3\n",
    "    end\n",
    "\n",
    "    c = c*4\n",
    "    N = ((length(arr)÷ 4))*c \n",
    "    @show N \n",
    "    if N == 0\n",
    "        return zeros(12,4)\n",
    "    end\n",
    "    \n",
    "    x1ref = zeros(N)*NaN # x-Coord\n",
    "    x2ref = zeros(N)*NaN # y-Coord\n",
    "    θref = zeros(N)*NaN # Angular (tan-1(y/x))\n",
    "    v1ref = zeros(N)*NaN\n",
    "    v2ref = zeros(N)*NaN\n",
    "    ωref = zeros(N)*NaN\n",
    "    rad = 20\n",
    "\n",
    "    u1ref = zeros(N-1)\n",
    "    u2ref = zeros(N-1)\n",
    "\n",
    "    block = zeros((length(arr) ÷ 4),4)*NaN\n",
    "    #@show size(block)\n",
    "    \n",
    "    counter  = 1\n",
    "    row_count = 1\n",
    "\n",
    "    xc = 0.0\n",
    "    yc = 0.0\n",
    "    tc = 0.0\n",
    "    vc = 0.0\n",
    "\n",
    "    Nb,Cb = size(block)\n",
    "    #@show(Nb)\n",
    "\n",
    "    for i in 1:length(arr)\n",
    "        #@show(xc)\n",
    "        if arr[i] == \"s\"\n",
    "            continue\n",
    "        elseif arr[i] == \"w\"\n",
    "            xc = xc + 0.0\n",
    "            yc = yc + 1.0\n",
    "        elseif arr[i] == \"a\"\n",
    "            xc = xc - 1.0\n",
    "            yc = yc + 0.0\n",
    "        elseif arr[i] == \"d\"\n",
    "            xc = xc + 1.0\n",
    "            yc = yc + 0.0\n",
    "        elseif arr[i] == \"q\"\n",
    "            xc -=1.0/sqrt(2.0)\n",
    "            yc +=1.0/sqrt(2.0)\n",
    "        elseif arr[i] == \"e\"\n",
    "            xc = xc + 1.0\n",
    "            yc = yc + 1.0\n",
    "        end\n",
    "        #@show(yc)\n",
    "\n",
    "        \n",
    "        if counter == 4\n",
    "            counter = 0\n",
    "            \n",
    "            block[row_count,1] = xc\n",
    "            block[row_count,2] = yc\n",
    "            block[row_count,3] = tc\n",
    "            block[row_count,4] = vc\n",
    "\n",
    "            if row_count > Nb \n",
    "                break\n",
    "            end\n",
    "            \n",
    "            row_count +=1\n",
    "            #@show(row_count)\n",
    "        end\n",
    "        \n",
    "        counter +=1\n",
    "    end\n",
    "    #@show(block)\n",
    "    \n",
    "    start_vec = zeros(1,4)\n",
    "    x1ref[1:c] .= Linear_Fit_between(0,block[1,1],c)\n",
    "    x2ref[1:c] .= Linear_Fit_between(0,block[1,2],c)\n",
    "\n",
    "    for i = 2:Nb\n",
    "        start = (i-1)*c + 1\n",
    "        finish = i*c\n",
    "        #@show(c)\n",
    "        #@show(finish)\n",
    "        #@show block[i,1]\n",
    "        #@show block[i+1,1]\n",
    "        arrx = Linear_Fit_between(block[i-1,1],block[i,1],c)\n",
    "        arry = Linear_Fit_between(block[i-1,2],block[i,2],c)\n",
    "        #@show size(arrx)\n",
    "\n",
    "        x1ref[start:finish] .= arrx\n",
    "        x2ref[start:finish] .= arry\n",
    "    end\n",
    "    x1ref[end] = block[Nb,1]\n",
    "    x2ref[end] = block[Nb,2]\n",
    "    #@show x1ref\n",
    "\n",
    "    #@show size(x1ref)\n",
    "    θref[1] = 0\n",
    "    u1ref[1] = 0\n",
    "    v1ref[1] = 0\n",
    "    u2ref[1] = 0\n",
    "    for i = 2:N\n",
    "        if (x1ref[i]-x1ref[i-1]) == 0\n",
    "            θref[i] = (pi/2)\n",
    "        else\n",
    "            θref[i] = atan(x2ref[i]-x2ref[i-1])/((x1ref[i]-x1ref[i-1]))\n",
    "        end\n",
    "        \n",
    "        u1ref[i-1] = sqrt((x2ref[i]-x2ref[i-1])^2 + (x1ref[i]-x1ref[i-1])^2)\n",
    "        v1ref[i] = 0\n",
    "        u2ref[i-1] = 0\n",
    "    end\n",
    "\n",
    "    xref = [x1ref'; x2ref'; θref'; v1ref']\n",
    "    uref = [u1ref'; u2ref']\n",
    "    #@show size([x for x in eachcol(xref)])\n",
    "    return [x for x in eachcol(xref)], [u for u in eachcol(uref)]\n",
    "end"
   ]
  },
  {
   "cell_type": "code",
   "execution_count": 230,
   "metadata": {},
   "outputs": [
    {
     "name": "stdout",
     "output_type": "stream",
     "text": [
      "N = 72\n"
     ]
    },
    {
     "data": {
      "text/plain": [
       "(SubArray{Float64, 1, Matrix{Float64}, Tuple{Base.Slice{Base.OneTo{Int64}}, Int64}, true}[[0.0, 0.0, 0.0, 0.0], [0.16666666666666666, 0.25, 1.469871978761185, 0.0], [0.3333333333333333, 0.5, 1.469871978761185, 0.0], [0.5, 0.75, 1.4698719787611847, 0.0], [0.6666666666666666, 1.0, 1.4698719787611851, 0.0], [0.8333333333333333, 1.25, 1.4698719787611851, 0.0], [0.9999999999999999, 1.5, 1.4698719787611851, 0.0], [1.1666666666666665, 1.75, 1.4698719787611851, 0.0], [1.3333333333333333, 2.0, 1.4698719787611843, 0.0], [1.5, 2.25, 1.4698719787611843, 0.0]  …  [12.333333333333332, 13.5, 1.46987197876119, 0.0], [12.499999999999998, 13.75, 1.46987197876119, 0.0], [12.666666666666664, 14.0, 1.46987197876119, 0.0], [12.83333333333333, 14.25, 1.46987197876119, 0.0], [12.999999999999996, 14.5, 1.46987197876119, 0.0], [13.166666666666663, 14.75, 1.46987197876119, 0.0], [13.333333333333329, 15.0, 1.46987197876119, 0.0], [13.499999999999995, 15.25, 1.46987197876119, 0.0], [13.66666666666666, 15.5, 1.46987197876119, 0.0], [14.0, 16.0, 1.3909428270023936, 0.0]], SubArray{Float64, 1, Matrix{Float64}, Tuple{Base.Slice{Base.OneTo{Int64}}, Int64}, true}[[0.3004626062886658, 0.0], [0.3004626062886658, 0.0], [0.3004626062886658, 0.0], [0.3004626062886657, 0.0], [0.3004626062886657, 0.0], [0.3004626062886657, 0.0], [0.3004626062886657, 0.0], [0.30046260628866583, 0.0], [0.30046260628866583, 0.0], [0.30046260628866583, 0.0]  …  [0.30046260628866545, 0.0], [0.30046260628866545, 0.0], [0.30046260628866545, 0.0], [0.30046260628866545, 0.0], [0.30046260628866545, 0.0], [0.30046260628866545, 0.0], [0.30046260628866545, 0.0], [0.30046260628866545, 0.0], [0.30046260628866545, 0.0], [0.6009252125773348, 0.0]])"
      ]
     },
     "execution_count": 230,
     "metadata": {},
     "output_type": "execute_result"
    }
   ],
   "source": [
    "in = readline()\n",
    "get_complex_traj(in)"
   ]
  },
  {
   "cell_type": "code",
   "execution_count": 231,
   "metadata": {},
   "outputs": [
    {
     "name": "stdout",
     "output_type": "stream",
     "text": [
      "N = 108\n"
     ]
    }
   ],
   "source": [
    "in = readline()\n",
    "\n",
    "Xref, Uref = get_complex_traj(in)\n",
    "# convert to static arrays and plot\n",
    "Xref = [SVector{4}(Xref[i]) for i = 1:length(Xref)]\n",
    "tref = SA[0:dt:(Nc-1-2*delta)*dt]\n",
    "trefu = SA[0:dt:(Nc-2-2*delta)*dt]\n",
    "\n",
    "Uref = [SVector{2}(Uref[i]) for i = 1:length(Uref)];"
   ]
  },
  {
   "cell_type": "code",
   "execution_count": 232,
   "metadata": {},
   "outputs": [],
   "source": [
    "Q = Diagonal([10,10,10,1.])\n",
    "R = Diagonal([1.,1.])\n",
    "Qf = Diagonal([1,1,1,1.])*1;"
   ]
  },
  {
   "cell_type": "code",
   "execution_count": 233,
   "metadata": {},
   "outputs": [
    {
     "data": {
      "text/plain": [
       "term_cost_expansion (generic function with 1 method)"
      ]
     },
     "execution_count": 233,
     "metadata": {},
     "output_type": "execute_result"
    }
   ],
   "source": [
    "function stage_cost(x,u,xref,uref, Q, R, Qf)\n",
    "    # LQR cost at each knot point (depends on both x and u)\n",
    "    J = 0.5 * (x - xref)' * Q * (x - xref) + 0.5 * (u - uref)' * R * (u - uref)\n",
    "    \n",
    "    return J\n",
    "end\n",
    "\n",
    "function term_cost(x,xref, Q, R, Qf)\n",
    "    # LQR terminal cost (depends on just x)\n",
    "    J = 0.5 * (x - xref)' * Qf * (x - xref)\n",
    "    \n",
    "    return J\n",
    "end\n",
    "\n",
    "function trajectory_cost(X,U,Xref,Uref, Q, R, Qf, Nmpc)\n",
    "    # calculate the cost of a given trajectory \n",
    "    J = 0.0\n",
    "    for i = 1:Nmpc-1\n",
    "        J += stage_cost(X[i],U[i],Xref[i],Uref[i], Q, R, Qf)\n",
    "    end\n",
    "    J += term_cost(X[end], Xref[end], Q, R, Qf)\n",
    "    \n",
    "    return J\n",
    "end\n",
    "        \n",
    "function stage_cost_expansion(x,u,xref,uref, Q, R, Qf, Nmpc)\n",
    "    # if the stage cost function is J, return the following derivatives:\n",
    "    # ∇²ₓJ,  ∇ₓJ, ∇²ᵤJ, ∇ᵤJ\n",
    "    Jxx = Q\n",
    "    Jx = Q * (x - xref)\n",
    "    Juu = R\n",
    "    Ju = R * (u - uref)\n",
    "    \n",
    "    return Jxx, Jx, Juu, Ju\n",
    "end\n",
    "\n",
    "function term_cost_expansion(x,xref, Q, R, Qf, Nmpc)\n",
    "    # if the terminal cost function is J, return the following derivatives:\n",
    "    # ∇²ₓJ,  ∇ₓJ\n",
    "    Jxx = Qf\n",
    "    Jx = Qf * (x - xref)\n",
    "    \n",
    "    return Jxx, Jx\n",
    "end"
   ]
  },
  {
   "cell_type": "code",
   "execution_count": 234,
   "metadata": {},
   "outputs": [
    {
     "data": {
      "text/plain": [
       "total_cost (generic function with 1 method)"
      ]
     },
     "execution_count": 234,
     "metadata": {},
     "output_type": "execute_result"
    }
   ],
   "source": [
    "function stage_cost_convoy(x, xref, Q)\n",
    "    # LQR cost at each knot point (depends on both x and u)\n",
    "    J = 0.5 * (x - xref)' * Q * (x - xref)\n",
    "    \n",
    "    return J\n",
    "end\n",
    "\n",
    "function trajectory_cost_convoy(X, Xref, Q, Nmpc)\n",
    "    # calculate the cost of a given trajectory \n",
    "    J = 0.0\n",
    "    for i = 1:Nmpc\n",
    "        J += stage_cost_convoy(X[i], Xref[i], Q)\n",
    "    end\n",
    "    \n",
    "    return J\n",
    "end\n",
    "        \n",
    "function stage_cost_expansion_convoy(x, xref, Q, Nmpc)\n",
    "    # if the stage cost function is J, return the following derivatives:\n",
    "    # ∇²ₓJ,  ∇ₓJ, ∇²ᵤJ, ∇ᵤJ\n",
    "    Jxx = Q\n",
    "    Jx = Q * (x - xref)\n",
    "    \n",
    "    return Jxx, Jx\n",
    "end\n",
    "\n",
    "function total_cost(X,U,Xref,Uref,Xfoll,Xlead, K,d,ΔJ, Q, R, Qf, Qfoll, Qlead, Nmpc)\n",
    "    J_traj = trajectory_cost(X,U,Xref,Uref, Q, R, Qf, Nmpc)\n",
    "    J_foll = trajectory_cost_convoy(X, Xfoll, Qfoll, Nmpc)\n",
    "    J_lead = trajectory_cost_convoy(X, Xlead, Qlead, Nmpc)\n",
    "    return J_traj + J_foll + J_lead\n",
    "end"
   ]
  },
  {
   "cell_type": "code",
   "execution_count": null,
   "metadata": {},
   "outputs": [],
   "source": []
  }
 ],
 "metadata": {
  "kernelspec": {
   "display_name": "Julia 1.6.5",
   "language": "julia",
   "name": "julia-1.6"
  },
  "language_info": {
   "file_extension": ".jl",
   "mimetype": "application/julia",
   "name": "julia",
   "version": "1.6.5"
  },
  "orig_nbformat": 4
 },
 "nbformat": 4,
 "nbformat_minor": 2
}
