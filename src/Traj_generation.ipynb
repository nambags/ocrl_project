{
 "cells": [
  {
   "cell_type": "code",
   "execution_count": 1,
   "metadata": {},
   "outputs": [
    {
     "name": "stderr",
     "output_type": "stream",
     "text": [
      "\u001b[32m\u001b[1m  Activating\u001b[22m\u001b[39m environment at `c:\\Users\\ADMIN\\Documents\\GitHub\\Project.toml`\n"
     ]
    },
    {
     "ename": "LoadError",
     "evalue": "SystemError: opening file \"c:\\\\Users\\\\ADMIN\\\\Documents\\\\GitHub\\\\ocrl_project\\\\car.jl\": No such file or directory",
     "output_type": "error",
     "traceback": [
      "SystemError: opening file \"c:\\\\Users\\\\ADMIN\\\\Documents\\\\GitHub\\\\ocrl_project\\\\car.jl\": No such file or directory",
      "",
      "Stacktrace:",
      "  [1] systemerror(p::String, errno::Int32; extrainfo::Nothing)",
      "    @ Base .\\error.jl:168",
      "  [2] #systemerror#62",
      "    @ .\\error.jl:167 [inlined]",
      "  [3] systemerror",
      "    @ .\\error.jl:167 [inlined]",
      "  [4] open(fname::String; lock::Bool, read::Nothing, write::Nothing, create::Nothing, truncate::Nothing, append::Nothing)",
      "    @ Base .\\iostream.jl:293",
      "  [5] open",
      "    @ .\\iostream.jl:282 [inlined]",
      "  [6] open(f::Base.var\"#326#327\"{String}, args::String; kwargs::Base.Iterators.Pairs{Union{}, Union{}, Tuple{}, NamedTuple{(), Tuple{}}})",
      "    @ Base .\\io.jl:328",
      "  [7] open",
      "    @ .\\io.jl:328 [inlined]",
      "  [8] read",
      "    @ .\\io.jl:434 [inlined]",
      "  [9] _include(mapexpr::Function, mod::Module, _path::String)",
      "    @ Base .\\loading.jl:1166",
      " [10] include(fname::String)",
      "    @ Base.MainInclude .\\client.jl:444",
      " [11] top-level scope",
      "    @ In[1]:4",
      " [12] eval",
      "    @ .\\boot.jl:360 [inlined]",
      " [13] include_string(mapexpr::typeof(REPL.softscope), mod::Module, code::String, filename::String)",
      "    @ Base .\\loading.jl:1116"
     ]
    }
   ],
   "source": [
    "import Pkg; Pkg.activate(joinpath(@__DIR__,\"..\")); Pkg.instantiate()\n",
    "using Plots\n",
    "using Test\n",
    "include(\"car.jl\");\n",
    "using ForwardDiff"
   ]
  },
  {
   "cell_type": "code",
   "execution_count": null,
   "metadata": {},
   "outputs": [],
   "source": [
    "# Define the model\n",
    "model = BicycleModel()\n",
    "\n",
    "# get the number of states and controls\n",
    "n = state_dim(model)\n",
    "m = control_dim(model)\n",
    "\n",
    "# Evaluate the continuous and discrete dynamics\n",
    "x0 = SA[0.,0.,0.,0.]\n",
    "u0 = SA[0.,0.]\n",
    "t0 = 0.0\n",
    "dt = 0.025\n",
    "dynamics(model, x0, u0)\n",
    "discrete_dynamics(RK4, model, x0, u0, t0, dt)  # use rk4 for integration\n",
    "\n",
    "# Evaluate the continuous and discrete Jacobians\n",
    "z0 = KnotPoint(x0,u0,dt,t0)   # create a `KnotPoint` type that stores everything together\n",
    "∇f = RobotDynamics.DynamicsJacobian(model)\n",
    "jacobian!(∇f, model, z0)\n",
    "discrete_jacobian!(RK4, ∇f, model, z0)\n",
    "\n",
    "# Extract pieces of the Jacobian\n",
    "A = ∇f.A\n",
    "B = ∇f.B;"
   ]
  },
  {
   "cell_type": "code",
   "execution_count": null,
   "metadata": {},
   "outputs": [],
   "source": [
    "nx = n\n",
    "nu = m\n",
    "\n",
    "Q = Diagonal([1,1,1e-2,1e-2])\n",
    "R = Diagonal([1e-1,1e-1])\n",
    "Qf = Diagonal([1,1,1,1.])*10\n",
    "\n",
    "N = 101 #401\n",
    "Nmpc = 10 #60\n",
    "Nhz = 1\n",
    "delta = 12 #80\n",
    "Nc = N + 2*delta\n",
    "\n",
    "FD = ForwardDiff;"
   ]
  },
  {
   "cell_type": "code",
   "execution_count": 1,
   "metadata": {},
   "outputs": [
    {
     "data": {
      "text/plain": [
       "get_trajectory (generic function with 1 method)"
      ]
     },
     "execution_count": 1,
     "metadata": {},
     "output_type": "execute_result"
    }
   ],
   "source": [
    "function get_trajectory(s)\n",
    "    \n",
    "    arr = split(s,\"\")\n",
    "    if 60 < length(arr) < 120\n",
    "        c = 2\n",
    "    elseif length(arr) > 120\n",
    "        c = 1\n",
    "    else \n",
    "        c = 3\n",
    "    end \n",
    "\n",
    "    N = length(arr) * c\n",
    "   \n",
    "\n",
    "    x1ref = zeros(N)*NaN\n",
    "    x2ref = zeros(N)*NaN\n",
    "    θref = zeros(N)*NaN\n",
    "    v1ref = zeros(N)*NaN\n",
    "    v2ref = zeros(N)*NaN\n",
    "    ωref = zeros(N)*NaN\n",
    "    rad = 20\n",
    "\n",
    "    @show(size(θref))\n",
    "    counter = 0\n",
    "    for i in 1:length(arr)\n",
    "        \n",
    "        if arr[i] == \"s\"\n",
    "            x1ref[i] += 0\n",
    "            x2ref[i] += 0\n",
    "            θref[i] += 0\n",
    "        elseif arr[i] == \"w\"\n",
    "            dir[i] = 1\n",
    "        elseif arr[i] == \"a\"\n",
    "            dir[i] = 2\n",
    "        elseif arr[i] ==\"d\"\n",
    "            dir[i] = 3\n",
    "        end\n",
    "        \n",
    "    end\n",
    "    return dir,length(dir)\n",
    "end"
   ]
  },
  {
   "cell_type": "code",
   "execution_count": null,
   "metadata": {},
   "outputs": [],
   "source": [
    "in = readline()\n",
    "d1,N = get_trajectory(in)"
   ]
  }
 ],
 "metadata": {
  "kernelspec": {
   "display_name": "Julia 1.6.5",
   "language": "julia",
   "name": "julia-1.6"
  },
  "language_info": {
   "file_extension": ".jl",
   "mimetype": "application/julia",
   "name": "julia",
   "version": "1.6.5"
  },
  "orig_nbformat": 4
 },
 "nbformat": 4,
 "nbformat_minor": 2
}
